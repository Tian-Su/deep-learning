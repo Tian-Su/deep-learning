{
 "cells": [
  {
   "cell_type": "markdown",
   "metadata": {
    "collapsed": true,
    "deletable": true,
    "editable": true
   },
   "source": [
    "# Image Classification\n",
    "In this project, you'll classify images from the [CIFAR-10 dataset](https://www.cs.toronto.edu/~kriz/cifar.html).  The dataset consists of airplanes, dogs, cats, and other objects. You'll preprocess the images, then train a convolutional neural network on all the samples. The images need to be normalized and the labels need to be one-hot encoded.  You'll get to apply what you learned and build a convolutional, max pooling, dropout, and fully connected layers.  At the end, you'll get to see your neural network's predictions on the sample images.\n",
    "## Get the Data\n",
    "Run the following cell to download the [CIFAR-10 dataset for python](https://www.cs.toronto.edu/~kriz/cifar-10-python.tar.gz)."
   ]
  },
  {
   "cell_type": "code",
   "execution_count": 2,
   "metadata": {
    "collapsed": false,
    "deletable": true,
    "editable": true
   },
   "outputs": [
    {
     "name": "stdout",
     "output_type": "stream",
     "text": [
      "All files found!\n"
     ]
    }
   ],
   "source": [
    "\"\"\"\n",
    "DON'T MODIFY ANYTHING IN THIS CELL THAT IS BELOW THIS LINE\n",
    "\"\"\"\n",
    "from urllib.request import urlretrieve\n",
    "from os.path import isfile, isdir\n",
    "from tqdm import tqdm\n",
    "import problem_unittests as tests\n",
    "import tarfile\n",
    "\n",
    "cifar10_dataset_folder_path = 'cifar-10-batches-py'\n",
    "\n",
    "# Use Floyd's cifar-10 dataset if present\n",
    "floyd_cifar10_location = '/input/cifar-10/python.tar.gz'\n",
    "if isfile(floyd_cifar10_location):\n",
    "    tar_gz_path = floyd_cifar10_location\n",
    "else:\n",
    "    tar_gz_path = 'cifar-10-python.tar.gz'\n",
    "\n",
    "class DLProgress(tqdm):\n",
    "    last_block = 0\n",
    "\n",
    "    def hook(self, block_num=1, block_size=1, total_size=None):\n",
    "        self.total = total_size\n",
    "        self.update((block_num - self.last_block) * block_size)\n",
    "        self.last_block = block_num\n",
    "\n",
    "if not isfile(tar_gz_path):\n",
    "    with DLProgress(unit='B', unit_scale=True, miniters=1, desc='CIFAR-10 Dataset') as pbar:\n",
    "        urlretrieve(\n",
    "            'https://www.cs.toronto.edu/~kriz/cifar-10-python.tar.gz',\n",
    "            tar_gz_path,\n",
    "            pbar.hook)\n",
    "\n",
    "if not isdir(cifar10_dataset_folder_path):\n",
    "    with tarfile.open(tar_gz_path) as tar:\n",
    "        tar.extractall()\n",
    "        tar.close()\n",
    "\n",
    "\n",
    "tests.test_folder_path(cifar10_dataset_folder_path)"
   ]
  },
  {
   "cell_type": "markdown",
   "metadata": {
    "deletable": true,
    "editable": true
   },
   "source": [
    "## Explore the Data\n",
    "The dataset is broken into batches to prevent your machine from running out of memory.  The CIFAR-10 dataset consists of 5 batches, named `data_batch_1`, `data_batch_2`, etc.. Each batch contains the labels and images that are one of the following:\n",
    "* airplane\n",
    "* automobile\n",
    "* bird\n",
    "* cat\n",
    "* deer\n",
    "* dog\n",
    "* frog\n",
    "* horse\n",
    "* ship\n",
    "* truck\n",
    "\n",
    "Understanding a dataset is part of making predictions on the data.  Play around with the code cell below by changing the `batch_id` and `sample_id`. The `batch_id` is the id for a batch (1-5). The `sample_id` is the id for a image and label pair in the batch.\n",
    "\n",
    "Ask yourself \"What are all possible labels?\", \"What is the range of values for the image data?\", \"Are the labels in order or random?\".  Answers to questions like these will help you preprocess the data and end up with better predictions."
   ]
  },
  {
   "cell_type": "code",
   "execution_count": 3,
   "metadata": {
    "collapsed": false,
    "deletable": true,
    "editable": true
   },
   "outputs": [
    {
     "name": "stdout",
     "output_type": "stream",
     "text": [
      "\n",
      "Stats of batch 1:\n",
      "Samples: 10000\n",
      "Label Counts: {0: 1005, 1: 974, 2: 1032, 3: 1016, 4: 999, 5: 937, 6: 1030, 7: 1001, 8: 1025, 9: 981}\n",
      "First 20 Labels: [6, 9, 9, 4, 1, 1, 2, 7, 8, 3, 4, 7, 7, 2, 9, 9, 9, 3, 2, 6]\n",
      "\n",
      "Example of Image 4:\n",
      "Image - Min Value: 0 Max Value: 254\n",
      "Image - Shape: (32, 32, 3)\n",
      "Label - Label Id: 1 Name: automobile\n"
     ]
    },
    {
     "data": {
      "image/png": "[encoded data removed]",
      "text/plain": [
       "<matplotlib.figure.Figure at 0x7f35885dabe0>"
      ]
     },
     "metadata": {
      "image/png": {
       "height": 250,
       "width": 253
      }
     },
     "output_type": "display_data"
    }
   ],
   "source": [
    "%matplotlib inline\n",
    "%config InlineBackend.figure_format = 'retina'\n",
    "\n",
    "import helper\n",
    "import numpy as np\n",
    "\n",
    "# Explore the dataset\n",
    "batch_id = 1\n",
    "sample_id = 4\n",
    "helper.display_stats(cifar10_dataset_folder_path, batch_id, sample_id)"
   ]
  },
  {
   "cell_type": "markdown",
   "metadata": {
    "deletable": true,
    "editable": true
   },
   "source": [
    "## Implement Preprocess Functions\n",
    "### Normalize\n",
    "In the cell below, implement the `normalize` function to take in image data, `x`, and return it as a normalized Numpy array. The values should be in the range of 0 to 1, inclusive.  The return object should be the same shape as `x`."
   ]
  },
  {
   "cell_type": "code",
   "execution_count": 4,
   "metadata": {
    "collapsed": false,
    "deletable": true,
    "editable": true
   },
   "outputs": [
    {
     "name": "stdout",
     "output_type": "stream",
     "text": [
      "Tests Passed\n"
     ]
    }
   ],
   "source": [
    "def normalize(x):\n",
    "    \"\"\"\n",
    "    Normalize a list of sample image data in the range of 0 to 1\n",
    "    : x: List of image data.  The image shape is (32, 32, 3)\n",
    "    : return: Numpy array of normalize data\n",
    "    \"\"\"\n",
    "    # TODO: Implement Function\n",
    "    max_x = x.max()\n",
    "    min_x = x.min()\n",
    "    mean_x = x.mean()\n",
    "    x = (x - min_x)/(max_x - min_x)\n",
    "    return x\n",
    "\n",
    "\n",
    "\"\"\"\n",
    "DON'T MODIFY ANYTHING IN THIS CELL THAT IS BELOW THIS LINE\n",
    "\"\"\"\n",
    "tests.test_normalize(normalize)"
   ]
  },
  {
   "cell_type": "markdown",
   "metadata": {
    "deletable": true,
    "editable": true
   },
   "source": [
    "### One-hot encode\n",
    "Just like the previous code cell, you'll be implementing a function for preprocessing.  This time, you'll implement the `one_hot_encode` function. The input, `x`, are a list of labels.  Implement the function to return the list of labels as One-Hot encoded Numpy array.  The possible values for labels are 0 to 9. The one-hot encoding function should return the same encoding for each value between each call to `one_hot_encode`.  Make sure to save the map of encodings outside the function.\n",
    "\n",
    "Hint: Don't reinvent the wheel."
   ]
  },
  {
   "cell_type": "code",
   "execution_count": 5,
   "metadata": {
    "collapsed": false,
    "deletable": true,
    "editable": true
   },
   "outputs": [
    {
     "name": "stdout",
     "output_type": "stream",
     "text": [
      "Tests Passed\n"
     ]
    }
   ],
   "source": [
    "from sklearn.preprocessing import OneHotEncoder\n",
    "\n",
    "num_class = 10\n",
    "\n",
    "def one_hot_encode(x):\n",
    "    \"\"\"\n",
    "    One hot encode a list of sample labels. Return a one-hot encoded vector for each label.\n",
    "    : x: List of sample Labels\n",
    "    : return: Numpy array of one-hot encoded labels\n",
    "    \"\"\"\n",
    "    # TODO: Implement Function\n",
    "    ohe = OneHotEncoder(n_values=num_class)    \n",
    "    labels = ohe.fit_transform(np.array(x).reshape(-1, 1)).toarray()\n",
    "    return labels\n",
    "\n",
    "\n",
    "\"\"\"\n",
    "DON'T MODIFY ANYTHING IN THIS CELL THAT IS BELOW THIS LINE\n",
    "\"\"\"\n",
    "tests.test_one_hot_encode(one_hot_encode)"
   ]
  },
  {
   "cell_type": "markdown",
   "metadata": {
    "deletable": true,
    "editable": true
   },
   "source": [
    "### Randomize Data\n",
    "As you saw from exploring the data above, the order of the samples are randomized.  It doesn't hurt to randomize it again, but you don't need to for this dataset."
   ]
  },
  {
   "cell_type": "markdown",
   "metadata": {
    "deletable": true,
    "editable": true
   },
   "source": [
    "## Preprocess all the data and save it\n",
    "Running the code cell below will preprocess all the CIFAR-10 data and save it to file. The code below also uses 10% of the training data for validation."
   ]
  },
  {
   "cell_type": "code",
   "execution_count": 6,
   "metadata": {
    "collapsed": false,
    "deletable": true,
    "editable": true
   },
   "outputs": [],
   "source": [
    "\"\"\"\n",
    "DON'T MODIFY ANYTHING IN THIS CELL\n",
    "\"\"\"\n",
    "# Preprocess Training, Validation, and Testing Data\n",
    "helper.preprocess_and_save_data(cifar10_dataset_folder_path, normalize, one_hot_encode)"
   ]
  },
  {
   "cell_type": "markdown",
   "metadata": {
    "deletable": true,
    "editable": true
   },
   "source": [
    "# Check Point\n",
    "This is your first checkpoint.  If you ever decide to come back to this notebook or have to restart the notebook, you can start from here.  The preprocessed data has been saved to disk."
   ]
  },
  {
   "cell_type": "code",
   "execution_count": 7,
   "metadata": {
    "collapsed": true,
    "deletable": true,
    "editable": true
   },
   "outputs": [],
   "source": [
    "\"\"\"\n",
    "DON'T MODIFY ANYTHING IN THIS CELL\n",
    "\"\"\"\n",
    "import pickle\n",
    "import problem_unittests as tests\n",
    "import helper\n",
    "\n",
    "# Load the Preprocessed Validation data\n",
    "valid_features, valid_labels = pickle.load(open('preprocess_validation.p', mode='rb'))"
   ]
  },
  {
   "cell_type": "markdown",
   "metadata": {
    "deletable": true,
    "editable": true
   },
   "source": [
    "## Build the network\n",
    "For the neural network, you'll build each layer into a function.  Most of the code you've seen has been outside of functions. To test your code more thoroughly, we require that you put each layer in a function.  This allows us to give you better feedback and test for simple mistakes using our unittests before you submit your project.\n",
    "\n",
    ">**Note:** If you're finding it hard to dedicate enough time for this course each week, we've provided a small shortcut to this part of the project. In the next couple of problems, you'll have the option to use classes from the [TensorFlow Layers](https://www.tensorflow.org/api_docs/python/tf/layers) or [TensorFlow Layers (contrib)](https://www.tensorflow.org/api_guides/python/contrib.layers) packages to build each layer, except the layers you build in the \"Convolutional and Max Pooling Layer\" section.  TF Layers is similar to Keras's and TFLearn's abstraction to layers, so it's easy to pickup.\n",
    "\n",
    ">However, if you would like to get the most out of this course, try to solve all the problems _without_ using anything from the TF Layers packages. You **can** still use classes from other packages that happen to have the same name as ones you find in TF Layers! For example, instead of using the TF Layers version of the `conv2d` class, [tf.layers.conv2d](https://www.tensorflow.org/api_docs/python/tf/layers/conv2d), you would want to use the TF Neural Network version of `conv2d`, [tf.nn.conv2d](https://www.tensorflow.org/api_docs/python/tf/nn/conv2d). \n",
    "\n",
    "Let's begin!\n",
    "\n",
    "### Input\n",
    "The neural network needs to read the image data, one-hot encoded labels, and dropout keep probability. Implement the following functions\n",
    "* Implement `neural_net_image_input`\n",
    " * Return a [TF Placeholder](https://www.tensorflow.org/api_docs/python/tf/placeholder)\n",
    " * Set the shape using `image_shape` with batch size set to `None`.\n",
    " * Name the TensorFlow placeholder \"x\" using the TensorFlow `name` parameter in the [TF Placeholder](https://www.tensorflow.org/api_docs/python/tf/placeholder).\n",
    "* Implement `neural_net_label_input`\n",
    " * Return a [TF Placeholder](https://www.tensorflow.org/api_docs/python/tf/placeholder)\n",
    " * Set the shape using `n_classes` with batch size set to `None`.\n",
    " * Name the TensorFlow placeholder \"y\" using the TensorFlow `name` parameter in the [TF Placeholder](https://www.tensorflow.org/api_docs/python/tf/placeholder).\n",
    "* Implement `neural_net_keep_prob_input`\n",
    " * Return a [TF Placeholder](https://www.tensorflow.org/api_docs/python/tf/placeholder) for dropout keep probability.\n",
    " * Name the TensorFlow placeholder \"keep_prob\" using the TensorFlow `name` parameter in the [TF Placeholder](https://www.tensorflow.org/api_docs/python/tf/placeholder).\n",
    "\n",
    "These names will be used at the end of the project to load your saved model.\n",
    "\n",
    "Note: `None` for shapes in TensorFlow allow for a dynamic size."
   ]
  },
  {
   "cell_type": "code",
   "execution_count": 8,
   "metadata": {
    "collapsed": false,
    "deletable": true,
    "editable": true
   },
   "outputs": [
    {
     "name": "stdout",
     "output_type": "stream",
     "text": [
      "Image Input Tests Passed.\n",
      "Label Input Tests Passed.\n",
      "Keep Prob Tests Passed.\n"
     ]
    }
   ],
   "source": [
    "import tensorflow as tf\n",
    "\n",
    "def neural_net_image_input(image_shape):\n",
    "    \"\"\"\n",
    "    Return a Tensor for a batch of image input\n",
    "    : image_shape: Shape of the images\n",
    "    : return: Tensor for image input.\n",
    "    \"\"\"\n",
    "    # TODO: Implement Function\n",
    "    assert(len(image_shape) == 3)\n",
    "    return tf.placeholder(tf.float32, shape=(None, *image_shape), name=\"x\")\n",
    "\n",
    "\n",
    "def neural_net_label_input(n_classes):\n",
    "    \"\"\"\n",
    "    Return a Tensor for a batch of label input\n",
    "    : n_classes: Number of classes\n",
    "    : return: Tensor for label input.\n",
    "    \"\"\"\n",
    "    # TODO: Implement Function\n",
    "    return tf.placeholder(tf.float32, shape=(None, n_classes), name=\"y\")\n",
    "\n",
    "\n",
    "def neural_net_keep_prob_input():\n",
    "    \"\"\"\n",
    "    Return a Tensor for keep probability\n",
    "    : return: Tensor for keep probability.\n",
    "    \"\"\"\n",
    "    # TODO: Implement Function\n",
    "    return tf.placeholder(tf.float32, name=\"keep_prob\")\n",
    "\n",
    "\n",
    "\"\"\"\n",
    "DON'T MODIFY ANYTHING IN THIS CELL THAT IS BELOW THIS LINE\n",
    "\"\"\"\n",
    "tf.reset_default_graph()\n",
    "tests.test_nn_image_inputs(neural_net_image_input)\n",
    "tests.test_nn_label_inputs(neural_net_label_input)\n",
    "tests.test_nn_keep_prob_inputs(neural_net_keep_prob_input)"
   ]
  },
  {
   "cell_type": "markdown",
   "metadata": {
    "deletable": true,
    "editable": true
   },
   "source": [
    "### Convolution and Max Pooling Layer\n",
    "Convolution layers have a lot of success with images. For this code cell, you should implement the function `conv2d_maxpool` to apply convolution then max pooling:\n",
    "* Create the weight and bias using `conv_ksize`, `conv_num_outputs` and the shape of `x_tensor`.\n",
    "* Apply a convolution to `x_tensor` using weight and `conv_strides`.\n",
    " * We recommend you use same padding, but you're welcome to use any padding.\n",
    "* Add bias\n",
    "* Add a nonlinear activation to the convolution.\n",
    "* Apply Max Pooling using `pool_ksize` and `pool_strides`.\n",
    " * We recommend you use same padding, but you're welcome to use any padding.\n",
    "\n",
    "**Note:** You **can't** use [TensorFlow Layers](https://www.tensorflow.org/api_docs/python/tf/layers) or [TensorFlow Layers (contrib)](https://www.tensorflow.org/api_guides/python/contrib.layers) for **this** layer, but you can still use TensorFlow's [Neural Network](https://www.tensorflow.org/api_docs/python/tf/nn) package. You may still use the shortcut option for all the **other** layers."
   ]
  },
  {
   "cell_type": "code",
   "execution_count": 9,
   "metadata": {
    "collapsed": false,
    "deletable": true,
    "editable": true
   },
   "outputs": [
    {
     "name": "stdout",
     "output_type": "stream",
     "text": [
      "Tests Passed\n"
     ]
    }
   ],
   "source": [
    "def conv2d_maxpool(x_tensor, conv_num_outputs, conv_ksize, conv_strides, pool_ksize, pool_strides):\n",
    "    \"\"\"\n",
    "    Apply convolution then max pooling to x_tensor\n",
    "    :param x_tensor: TensorFlow Tensor\n",
    "    :param conv_num_outputs: Number of outputs for the convolutional layer\n",
    "    :param conv_ksize: kernal size 2-D Tuple for the convolutional layer\n",
    "    :param conv_strides: Stride 2-D Tuple for convolution\n",
    "    :param pool_ksize: kernal size 2-D Tuple for pool\n",
    "    :param pool_strides: Stride 2-D Tuple for pool\n",
    "    : return: A tensor that represents convolution and max pooling of x_tensor\n",
    "    \"\"\"\n",
    "    # TODO: Implement Function\n",
    "    # Weight\n",
    "    _, img_hight, img_width, channels = x_tensor.get_shape().as_list()\n",
    "    weights_shape = conv_ksize[0], conv_ksize[1], channels, conv_num_outputs\n",
    "    weights = tf.Variable(tf.truncated_normal(weights_shape))\n",
    "    # Bias\n",
    "    bias = tf.Variable(tf.zeros(conv_num_outputs))\n",
    "    # Conv layer\n",
    "    conv = tf.nn.conv2d(x_tensor, weights, strides=(1, *conv_strides, 1), padding='SAME')\n",
    "    # Add bias\n",
    "    conv = tf.nn.bias_add(conv, bias)\n",
    "    # Activation\n",
    "    conv = tf.nn.relu(conv)\n",
    "    # Max Pooling\n",
    "    conv = tf.nn.max_pool(conv, ksize=(1, *pool_ksize, 1), strides=(1, *pool_strides, 1), padding='SAME')\n",
    "    return conv \n",
    "\n",
    "\n",
    "\"\"\"\n",
    "DON'T MODIFY ANYTHING IN THIS CELL THAT IS BELOW THIS LINE\n",
    "\"\"\"\n",
    "tests.test_con_pool(conv2d_maxpool)"
   ]
  },
  {
   "cell_type": "markdown",
   "metadata": {
    "deletable": true,
    "editable": true
   },
   "source": [
    "### Flatten Layer\n",
    "Implement the `flatten` function to change the dimension of `x_tensor` from a 4-D tensor to a 2-D tensor.  The output should be the shape (*Batch Size*, *Flattened Image Size*). Shortcut option: you can use classes from the [TensorFlow Layers](https://www.tensorflow.org/api_docs/python/tf/layers) or [TensorFlow Layers (contrib)](https://www.tensorflow.org/api_guides/python/contrib.layers) packages for this layer. For more of a challenge, only use other TensorFlow packages."
   ]
  },
  {
   "cell_type": "code",
   "execution_count": 10,
   "metadata": {
    "collapsed": false,
    "deletable": true,
    "editable": true
   },
   "outputs": [
    {
     "name": "stdout",
     "output_type": "stream",
     "text": [
      "Tests Passed\n"
     ]
    }
   ],
   "source": [
    "def flatten(x_tensor):\n",
    "    \"\"\"\n",
    "    Flatten x_tensor to (Batch Size, Flattened Image Size)\n",
    "    : x_tensor: A tensor of size (Batch Size, ...), where ... are the image dimensions.\n",
    "    : return: A tensor of size (Batch Size, Flattened Image Size).\n",
    "    \"\"\"\n",
    "    # TODO: Implement Function\n",
    "    _, h, w, d = x_tensor.get_shape().as_list()\n",
    "    return tf.reshape(x_tensor, [-1, h * w * d])\n",
    "\n",
    "\n",
    "\"\"\"\n",
    "DON'T MODIFY ANYTHING IN THIS CELL THAT IS BELOW THIS LINE\n",
    "\"\"\"\n",
    "tests.test_flatten(flatten)"
   ]
  },
  {
   "cell_type": "markdown",
   "metadata": {
    "deletable": true,
    "editable": true
   },
   "source": [
    "### Fully-Connected Layer\n",
    "Implement the `fully_conn` function to apply a fully connected layer to `x_tensor` with the shape (*Batch Size*, *num_outputs*). Shortcut option: you can use classes from the [TensorFlow Layers](https://www.tensorflow.org/api_docs/python/tf/layers) or [TensorFlow Layers (contrib)](https://www.tensorflow.org/api_guides/python/contrib.layers) packages for this layer. For more of a challenge, only use other TensorFlow packages."
   ]
  },
  {
   "cell_type": "code",
   "execution_count": 11,
   "metadata": {
    "collapsed": false,
    "deletable": true,
    "editable": true
   },
   "outputs": [
    {
     "name": "stdout",
     "output_type": "stream",
     "text": [
      "Tests Passed\n"
     ]
    }
   ],
   "source": [
    "def fully_conn(x_tensor, num_outputs):\n",
    "    \"\"\"\n",
    "    Apply a fully connected layer to x_tensor using weight and bias\n",
    "    : x_tensor: A 2-D tensor where the first dimension is batch size.\n",
    "    : num_outputs: The number of output that the new tensor should be.\n",
    "    : return: A 2-D tensor where the second dimension is num_outputs.\n",
    "    \"\"\"\n",
    "    # TODO: Implement Function\n",
    "    _, num_input = x_tensor.get_shape().as_list()\n",
    "    weights = tf.Variable(tf.truncated_normal(shape=[num_input, num_outputs], stddev=0.1))\n",
    "    bias = tf.Variable(tf.zeros(num_outputs))\n",
    "    \n",
    "    return tf.nn.relu(tf.nn.bias_add(tf.matmul(x_tensor, weights), bias))\n",
    "\n",
    "\n",
    "\"\"\"\n",
    "DON'T MODIFY ANYTHING IN THIS CELL THAT IS BELOW THIS LINE\n",
    "\"\"\"\n",
    "tests.test_fully_conn(fully_conn)"
   ]
  },
  {
   "cell_type": "markdown",
   "metadata": {
    "deletable": true,
    "editable": true
   },
   "source": [
    "### Output Layer\n",
    "Implement the `output` function to apply a fully connected layer to `x_tensor` with the shape (*Batch Size*, *num_outputs*). Shortcut option: you can use classes from the [TensorFlow Layers](https://www.tensorflow.org/api_docs/python/tf/layers) or [TensorFlow Layers (contrib)](https://www.tensorflow.org/api_guides/python/contrib.layers) packages for this layer. For more of a challenge, only use other TensorFlow packages.\n",
    "\n",
    "**Note:** Activation, softmax, or cross entropy should **not** be applied to this."
   ]
  },
  {
   "cell_type": "code",
   "execution_count": 12,
   "metadata": {
    "collapsed": false,
    "deletable": true,
    "editable": true
   },
   "outputs": [
    {
     "name": "stdout",
     "output_type": "stream",
     "text": [
      "Tests Passed\n"
     ]
    }
   ],
   "source": [
    "def output(x_tensor, num_outputs):\n",
    "    \"\"\"\n",
    "    Apply a output layer to x_tensor using weight and bias\n",
    "    : x_tensor: A 2-D tensor where the first dimension is batch size.\n",
    "    : num_outputs: The number of output that the new tensor should be.\n",
    "    : return: A 2-D tensor where the second dimension is num_outputs.\n",
    "    \"\"\"\n",
    "    # TODO: Implement Function\n",
    "    _, num_input = x_tensor.get_shape().as_list()\n",
    "    weight = tf.Variable(tf.truncated_normal(shape=(num_input, num_outputs),stddev=0.1))\n",
    "    bias = tf.Variable(tf.zeros(num_outputs))\n",
    "    output_layer = tf.add(tf.matmul(x_tensor, weight),bias)\n",
    "    return output_layer\n",
    "\n",
    "\n",
    "\"\"\"\n",
    "DON'T MODIFY ANYTHING IN THIS CELL THAT IS BELOW THIS LINE\n",
    "\"\"\"\n",
    "tests.test_output(output)"
   ]
  },
  {
   "cell_type": "markdown",
   "metadata": {
    "deletable": true,
    "editable": true
   },
   "source": [
    "### Create Convolutional Model\n",
    "Implement the function `conv_net` to create a convolutional neural network model. The function takes in a batch of images, `x`, and outputs logits.  Use the layers you created above to create this model:\n",
    "\n",
    "* Apply 1, 2, or 3 Convolution and Max Pool layers\n",
    "* Apply a Flatten Layer\n",
    "* Apply 1, 2, or 3 Fully Connected Layers\n",
    "* Apply an Output Layer\n",
    "* Return the output\n",
    "* Apply [TensorFlow's Dropout](https://www.tensorflow.org/api_docs/python/tf/nn/dropout) to one or more layers in the model using `keep_prob`. "
   ]
  },
  {
   "cell_type": "code",
   "execution_count": 30,
   "metadata": {
    "collapsed": false,
    "deletable": true,
    "editable": true
   },
   "outputs": [
    {
     "name": "stdout",
     "output_type": "stream",
     "text": [
      "start (?, 32, 32, 3)\n",
      "conv2d_maxpool (?, 8, 8, 32)\n",
      "flatten (?, 2048)\n",
      "fully_conn (?, 128)\n",
      "dropout (?, 128)\n",
      "fully_conn (?, 20)\n",
      "output (?, 10)\n",
      "start (?, 32, 32, 3)\n",
      "conv2d_maxpool (?, 8, 8, 32)\n",
      "flatten (?, 2048)\n",
      "fully_conn (?, 128)\n",
      "dropout (?, 128)\n",
      "fully_conn (?, 20)\n",
      "output (?, 10)\n",
      "Neural Network Built!\n"
     ]
    }
   ],
   "source": [
    "def conv_net(x, keep_prob):\n",
    "    \"\"\"\n",
    "    Create a convolutional neural network model\n",
    "    : x: Placeholder tensor that holds image data.\n",
    "    : keep_prob: Placeholder tensor that hold dropout keep probability.\n",
    "    : return: Tensor that represents logits\n",
    "    \"\"\"\n",
    "    # TODO: Apply 1, 2, or 3 Convolution and Max Pool layers\n",
    "    #    Play around with different number of outputs, kernel size and stride\n",
    "    # Function Definition from Above:\n",
    "    #    conv2d_maxpool(x_tensor, conv_num_outputs, conv_ksize, conv_strides, pool_ksize, pool_strides)\n",
    "    conv_layers = (\n",
    "        # 32 * 32 * 3 -> 16 * 16 * 32 -> 8 * 8 * 32\n",
    "        (32, (5,5), (2,2), (2,2), (2,2)),\n",
    "        #(32, (5,5), (1,1), (2,2), (2,2)),\n",
    "    )\n",
    "    \n",
    "    layer = x\n",
    "    print('start', layer.get_shape())\n",
    "    for conv_layer in conv_layers:\n",
    "        layer = conv2d_maxpool(layer, *conv_layer)\n",
    "        print('conv2d_maxpool', layer.get_shape())\n",
    "\n",
    "    # TODO: Apply a Flatten Layer\n",
    "    # Function Definition from Above:\n",
    "    #   flatten(x_tensor)\n",
    "    layer = flatten(layer)\n",
    "    print('flatten', layer.get_shape())\n",
    "\n",
    "    # TODO: Apply 1, 2, or 3 Fully Connected Layers\n",
    "    #    Play around with different number of outputs\n",
    "    # Function Definition from Above:\n",
    "    #   fully_conn(x_tensor, num_outputs)\n",
    "    fully_conn_layers = (128, 'dropout', 20)\n",
    "    for fully_conn_layer in fully_conn_layers:\n",
    "        if fully_conn_layer == \"dropout\":\n",
    "            layer = tf.nn.dropout(layer, keep_prob)\n",
    "            print('dropout', layer.get_shape())\n",
    "        else:\n",
    "            layer = fully_conn(layer, fully_conn_layer)\n",
    "            print('fully_conn', layer.get_shape())\n",
    "    # TODO: Apply an Output Layer\n",
    "    #    Set this to the number of classes\n",
    "    # Function Definition from Above:\n",
    "    #   output(x_tensor, num_outputs)\n",
    "    layer = output(layer, num_class)\n",
    "    print('output', layer.get_shape())\n",
    "    # TODO: return output\n",
    "    return layer\n",
    "\n",
    "\n",
    "\"\"\"\n",
    "DON'T MODIFY ANYTHING IN THIS CELL THAT IS BELOW THIS LINE\n",
    "\"\"\"\n",
    "\n",
    "##############################\n",
    "## Build the Neural Network ##\n",
    "##############################\n",
    "\n",
    "# Remove previous weights, bias, inputs, etc..\n",
    "tf.reset_default_graph()\n",
    "\n",
    "# Inputs\n",
    "x = neural_net_image_input((32, 32, 3))\n",
    "y = neural_net_label_input(10)\n",
    "keep_prob = neural_net_keep_prob_input()\n",
    "\n",
    "# Model\n",
    "logits = conv_net(x, keep_prob)\n",
    "\n",
    "# Name logits Tensor, so that is can be loaded from disk after training\n",
    "logits = tf.identity(logits, name='logits')\n",
    "\n",
    "# Loss and Optimizer\n",
    "cost = tf.reduce_mean(tf.nn.softmax_cross_entropy_with_logits(logits=logits, labels=y))\n",
    "optimizer = tf.train.AdamOptimizer().minimize(cost)\n",
    "\n",
    "# Accuracy\n",
    "correct_pred = tf.equal(tf.argmax(logits, 1), tf.argmax(y, 1))\n",
    "accuracy = tf.reduce_mean(tf.cast(correct_pred, tf.float32), name='accuracy')\n",
    "\n",
    "tests.test_conv_net(conv_net)"
   ]
  },
  {
   "cell_type": "markdown",
   "metadata": {
    "deletable": true,
    "editable": true
   },
   "source": [
    "## Train the Neural Network\n",
    "### Single Optimization\n",
    "Implement the function `train_neural_network` to do a single optimization.  The optimization should use `optimizer` to optimize in `session` with a `feed_dict` of the following:\n",
    "* `x` for image input\n",
    "* `y` for labels\n",
    "* `keep_prob` for keep probability for dropout\n",
    "\n",
    "This function will be called for each batch, so `tf.global_variables_initializer()` has already been called.\n",
    "\n",
    "Note: Nothing needs to be returned. This function is only optimizing the neural network."
   ]
  },
  {
   "cell_type": "code",
   "execution_count": 31,
   "metadata": {
    "collapsed": false,
    "deletable": true,
    "editable": true
   },
   "outputs": [
    {
     "name": "stdout",
     "output_type": "stream",
     "text": [
      "Tests Passed\n"
     ]
    }
   ],
   "source": [
    "def train_neural_network(session, optimizer, keep_probability, feature_batch, label_batch):\n",
    "    \"\"\"\n",
    "    Optimize the session on a batch of images and labels\n",
    "    : session: Current TensorFlow session\n",
    "    : optimizer: TensorFlow optimizer function\n",
    "    : keep_probability: keep probability\n",
    "    : feature_batch: Batch of Numpy image data\n",
    "    : label_batch: Batch of Numpy label data\n",
    "    \"\"\"\n",
    "    # TODO: Implement Function\n",
    "    session.run(\n",
    "        optimizer, \n",
    "        feed_dict={\n",
    "            keep_prob: keep_probability,\n",
    "            x: feature_batch,\n",
    "            y: label_batch\n",
    "        }\n",
    "    )\n",
    "\n",
    "\n",
    "\"\"\"\n",
    "DON'T MODIFY ANYTHING IN THIS CELL THAT IS BELOW THIS LINE\n",
    "\"\"\"\n",
    "tests.test_train_nn(train_neural_network)"
   ]
  },
  {
   "cell_type": "markdown",
   "metadata": {
    "deletable": true,
    "editable": true
   },
   "source": [
    "### Show Stats\n",
    "Implement the function `print_stats` to print loss and validation accuracy.  Use the global variables `valid_features` and `valid_labels` to calculate validation accuracy.  Use a keep probability of `1.0` to calculate the loss and validation accuracy."
   ]
  },
  {
   "cell_type": "code",
   "execution_count": 32,
   "metadata": {
    "collapsed": false,
    "deletable": true,
    "editable": true
   },
   "outputs": [],
   "source": [
    "def print_stats(session, feature_batch, label_batch, cost, accuracy):\n",
    "    \"\"\"\n",
    "    Print information about loss and validation accuracy\n",
    "    : session: Current TensorFlow session\n",
    "    : feature_batch: Batch of Numpy image data\n",
    "    : label_batch: Batch of Numpy label data\n",
    "    : cost: TensorFlow cost function\n",
    "    : accuracy: TensorFlow accuracy function\n",
    "    \"\"\"\n",
    "    # TODO: Implement Function\n",
    "    loss = session.run(\n",
    "        cost, \n",
    "        feed_dict={\n",
    "            x: feature_batch,\n",
    "            y: label_batch,\n",
    "            keep_prob: 1.\n",
    "        }\n",
    "    )\n",
    "\n",
    "    val_accuracy = session.run(\n",
    "        accuracy, \n",
    "        feed_dict={\n",
    "            x: valid_features,\n",
    "            y: valid_labels,\n",
    "            keep_prob: 1.\n",
    "    })\n",
    "\n",
    "\n",
    "    print(\"Loss: %s, Validation Accuracy: %s\" % (loss, val_accuracy))"
   ]
  },
  {
   "cell_type": "markdown",
   "metadata": {
    "deletable": true,
    "editable": true
   },
   "source": [
    "### Hyperparameters\n",
    "Tune the following parameters:\n",
    "* Set `epochs` to the number of iterations until the network stops learning or start overfitting\n",
    "* Set `batch_size` to the highest number that your machine has memory for.  Most people set them to common sizes of memory:\n",
    " * 64\n",
    " * 128\n",
    " * 256\n",
    " * ...\n",
    "* Set `keep_probability` to the probability of keeping a node using dropout"
   ]
  },
  {
   "cell_type": "code",
   "execution_count": 37,
   "metadata": {
    "collapsed": true,
    "deletable": true,
    "editable": true
   },
   "outputs": [],
   "source": [
    "# TODO: Tune Parameters\n",
    "epochs = 50\n",
    "batch_size = 256\n",
    "keep_probability = 0.5"
   ]
  },
  {
   "cell_type": "markdown",
   "metadata": {
    "deletable": true,
    "editable": true
   },
   "source": [
    "### Train on a Single CIFAR-10 Batch\n",
    "Instead of training the neural network on all the CIFAR-10 batches of data, let's use a single batch. This should save time while you iterate on the model to get a better accuracy.  Once the final validation accuracy is 50% or greater, run the model on all the data in the next section."
   ]
  },
  {
   "cell_type": "code",
   "execution_count": 38,
   "metadata": {
    "collapsed": false,
    "deletable": true,
    "editable": true
   },
   "outputs": [
    {
     "name": "stdout",
     "output_type": "stream",
     "text": [
      "Checking the Training on a Single Batch...\n",
      "Epoch  1, CIFAR-10 Batch 1:  Loss: 2.29214, Validation Accuracy: 0.1178\n",
      "Epoch  2, CIFAR-10 Batch 1:  Loss: 2.13149, Validation Accuracy: 0.2148\n",
      "Epoch  3, CIFAR-10 Batch 1:  Loss: 2.0488, Validation Accuracy: 0.2962\n",
      "Epoch  4, CIFAR-10 Batch 1:  Loss: 1.94761, Validation Accuracy: 0.3426\n",
      "Epoch  5, CIFAR-10 Batch 1:  Loss: 1.90961, Validation Accuracy: 0.3692\n",
      "Epoch  6, CIFAR-10 Batch 1:  Loss: 1.78917, Validation Accuracy: 0.3796\n",
      "Epoch  7, CIFAR-10 Batch 1:  Loss: 1.6722, Validation Accuracy: 0.3906\n",
      "Epoch  8, CIFAR-10 Batch 1:  Loss: 1.59411, Validation Accuracy: 0.4204\n",
      "Epoch  9, CIFAR-10 Batch 1:  Loss: 1.49321, Validation Accuracy: 0.429\n",
      "Epoch 10, CIFAR-10 Batch 1:  Loss: 1.43479, Validation Accuracy: 0.4312\n",
      "Epoch 11, CIFAR-10 Batch 1:  Loss: 1.28812, Validation Accuracy: 0.4454\n",
      "Epoch 12, CIFAR-10 Batch 1:  Loss: 1.22628, Validation Accuracy: 0.4594\n",
      "Epoch 13, CIFAR-10 Batch 1:  Loss: 1.17001, Validation Accuracy: 0.4648\n",
      "Epoch 14, CIFAR-10 Batch 1:  Loss: 1.08444, Validation Accuracy: 0.4594\n",
      "Epoch 15, CIFAR-10 Batch 1:  Loss: 1.00437, Validation Accuracy: 0.4578\n",
      "Epoch 16, CIFAR-10 Batch 1:  Loss: 0.964984, Validation Accuracy: 0.4804\n",
      "Epoch 17, CIFAR-10 Batch 1:  Loss: 0.908669, Validation Accuracy: 0.4856\n",
      "Epoch 18, CIFAR-10 Batch 1:  Loss: 0.850827, Validation Accuracy: 0.4834\n",
      "Epoch 19, CIFAR-10 Batch 1:  Loss: 0.81951, Validation Accuracy: 0.4784\n",
      "Epoch 20, CIFAR-10 Batch 1:  Loss: 0.776999, Validation Accuracy: 0.495\n",
      "Epoch 21, CIFAR-10 Batch 1:  Loss: 0.750386, Validation Accuracy: 0.4934\n",
      "Epoch 22, CIFAR-10 Batch 1:  Loss: 0.713648, Validation Accuracy: 0.4954\n",
      "Epoch 23, CIFAR-10 Batch 1:  Loss: 0.666668, Validation Accuracy: 0.503\n",
      "Epoch 24, CIFAR-10 Batch 1:  Loss: 0.658906, Validation Accuracy: 0.5044\n",
      "Epoch 25, CIFAR-10 Batch 1:  Loss: 0.627229, Validation Accuracy: 0.502\n",
      "Epoch 26, CIFAR-10 Batch 1:  Loss: 0.598088, Validation Accuracy: 0.5096\n",
      "Epoch 27, CIFAR-10 Batch 1:  Loss: 0.570253, Validation Accuracy: 0.505\n",
      "Epoch 28, CIFAR-10 Batch 1:  Loss: 0.551059, Validation Accuracy: 0.5148\n",
      "Epoch 29, CIFAR-10 Batch 1:  Loss: 0.54222, Validation Accuracy: 0.5114\n",
      "Epoch 30, CIFAR-10 Batch 1:  Loss: 0.506636, Validation Accuracy: 0.519\n",
      "Epoch 31, CIFAR-10 Batch 1:  Loss: 0.505058, Validation Accuracy: 0.5178\n",
      "Epoch 32, CIFAR-10 Batch 1:  Loss: 0.44223, Validation Accuracy: 0.5132\n",
      "Epoch 33, CIFAR-10 Batch 1:  Loss: 0.430387, Validation Accuracy: 0.5178\n",
      "Epoch 34, CIFAR-10 Batch 1:  Loss: 0.401436, Validation Accuracy: 0.5198\n",
      "Epoch 35, CIFAR-10 Batch 1:  Loss: 0.39518, Validation Accuracy: 0.5152\n",
      "Epoch 36, CIFAR-10 Batch 1:  Loss: 0.404838, Validation Accuracy: 0.5176\n",
      "Epoch 37, CIFAR-10 Batch 1:  Loss: 0.36152, Validation Accuracy: 0.5218\n",
      "Epoch 38, CIFAR-10 Batch 1:  Loss: 0.351218, Validation Accuracy: 0.5164\n",
      "Epoch 39, CIFAR-10 Batch 1:  Loss: 0.360462, Validation Accuracy: 0.516\n",
      "Epoch 40, CIFAR-10 Batch 1:  Loss: 0.347295, Validation Accuracy: 0.5136\n",
      "Epoch 41, CIFAR-10 Batch 1:  Loss: 0.302524, Validation Accuracy: 0.5142\n",
      "Epoch 42, CIFAR-10 Batch 1:  Loss: 0.287233, Validation Accuracy: 0.5164\n",
      "Epoch 43, CIFAR-10 Batch 1:  Loss: 0.276833, Validation Accuracy: 0.5178\n",
      "Epoch 44, CIFAR-10 Batch 1:  Loss: 0.264146, Validation Accuracy: 0.5198\n",
      "Epoch 45, CIFAR-10 Batch 1:  Loss: 0.249797, Validation Accuracy: 0.5212\n",
      "Epoch 46, CIFAR-10 Batch 1:  Loss: 0.231525, Validation Accuracy: 0.5278\n",
      "Epoch 47, CIFAR-10 Batch 1:  Loss: 0.199687, Validation Accuracy: 0.5244\n",
      "Epoch 48, CIFAR-10 Batch 1:  Loss: 0.218298, Validation Accuracy: 0.5188\n",
      "Epoch 49, CIFAR-10 Batch 1:  Loss: 0.201694, Validation Accuracy: 0.524\n",
      "Epoch 50, CIFAR-10 Batch 1:  Loss: 0.168719, Validation Accuracy: 0.5238\n"
     ]
    }
   ],
   "source": [
    "\"\"\"\n",
    "DON'T MODIFY ANYTHING IN THIS CELL\n",
    "\"\"\"\n",
    "print('Checking the Training on a Single Batch...')\n",
    "with tf.Session() as sess:\n",
    "    # Initializing the variables\n",
    "    sess.run(tf.global_variables_initializer())\n",
    "    \n",
    "    # Training cycle\n",
    "    for epoch in range(epochs):\n",
    "        batch_i = 1\n",
    "        for batch_features, batch_labels in helper.load_preprocess_training_batch(batch_i, batch_size):\n",
    "            train_neural_network(sess, optimizer, keep_probability, batch_features, batch_labels)\n",
    "        print('Epoch {:>2}, CIFAR-10 Batch {}:  '.format(epoch + 1, batch_i), end='')\n",
    "        print_stats(sess, batch_features, batch_labels, cost, accuracy)"
   ]
  },
  {
   "cell_type": "markdown",
   "metadata": {
    "deletable": true,
    "editable": true
   },
   "source": [
    "### Fully Train the Model\n",
    "Now that you got a good accuracy with a single CIFAR-10 batch, try it with all five batches."
   ]
  },
  {
   "cell_type": "code",
   "execution_count": 39,
   "metadata": {
    "collapsed": false,
    "deletable": true,
    "editable": true
   },
   "outputs": [
    {
     "name": "stdout",
     "output_type": "stream",
     "text": [
      "Training...\n",
      "Epoch  1, CIFAR-10 Batch 1:  Loss: 2.27728, Validation Accuracy: 0.1706\n",
      "Epoch  1, CIFAR-10 Batch 2:  Loss: 2.15174, Validation Accuracy: 0.1966\n",
      "Epoch  1, CIFAR-10 Batch 3:  Loss: 1.90167, Validation Accuracy: 0.2304\n",
      "Epoch  1, CIFAR-10 Batch 4:  Loss: 1.9098, Validation Accuracy: 0.2924\n",
      "Epoch  1, CIFAR-10 Batch 5:  Loss: 1.90639, Validation Accuracy: 0.3116\n",
      "Epoch  2, CIFAR-10 Batch 1:  Loss: 1.98069, Validation Accuracy: 0.3478\n",
      "Epoch  2, CIFAR-10 Batch 2:  Loss: 1.75863, Validation Accuracy: 0.3642\n",
      "Epoch  2, CIFAR-10 Batch 3:  Loss: 1.61492, Validation Accuracy: 0.3968\n",
      "Epoch  2, CIFAR-10 Batch 4:  Loss: 1.63031, Validation Accuracy: 0.4072\n",
      "Epoch  2, CIFAR-10 Batch 5:  Loss: 1.65196, Validation Accuracy: 0.418\n",
      "Epoch  3, CIFAR-10 Batch 1:  Loss: 1.73613, Validation Accuracy: 0.4288\n",
      "Epoch  3, CIFAR-10 Batch 2:  Loss: 1.5296, Validation Accuracy: 0.4392\n",
      "Epoch  3, CIFAR-10 Batch 3:  Loss: 1.44081, Validation Accuracy: 0.4466\n",
      "Epoch  3, CIFAR-10 Batch 4:  Loss: 1.45077, Validation Accuracy: 0.4614\n",
      "Epoch  3, CIFAR-10 Batch 5:  Loss: 1.44833, Validation Accuracy: 0.47\n",
      "Epoch  4, CIFAR-10 Batch 1:  Loss: 1.58348, Validation Accuracy: 0.4692\n",
      "Epoch  4, CIFAR-10 Batch 2:  Loss: 1.41354, Validation Accuracy: 0.4778\n",
      "Epoch  4, CIFAR-10 Batch 3:  Loss: 1.28911, Validation Accuracy: 0.4726\n",
      "Epoch  4, CIFAR-10 Batch 4:  Loss: 1.33706, Validation Accuracy: 0.4888\n",
      "Epoch  4, CIFAR-10 Batch 5:  Loss: 1.35041, Validation Accuracy: 0.491\n",
      "Epoch  5, CIFAR-10 Batch 1:  Loss: 1.47221, Validation Accuracy: 0.498\n",
      "Epoch  5, CIFAR-10 Batch 2:  Loss: 1.31663, Validation Accuracy: 0.4976\n",
      "Epoch  5, CIFAR-10 Batch 3:  Loss: 1.16836, Validation Accuracy: 0.493\n",
      "Epoch  5, CIFAR-10 Batch 4:  Loss: 1.29298, Validation Accuracy: 0.5124\n",
      "Epoch  5, CIFAR-10 Batch 5:  Loss: 1.26278, Validation Accuracy: 0.5052\n",
      "Epoch  6, CIFAR-10 Batch 1:  Loss: 1.35238, Validation Accuracy: 0.516\n",
      "Epoch  6, CIFAR-10 Batch 2:  Loss: 1.25238, Validation Accuracy: 0.5104\n",
      "Epoch  6, CIFAR-10 Batch 3:  Loss: 1.08433, Validation Accuracy: 0.5086\n",
      "Epoch  6, CIFAR-10 Batch 4:  Loss: 1.21658, Validation Accuracy: 0.525\n",
      "Epoch  6, CIFAR-10 Batch 5:  Loss: 1.17623, Validation Accuracy: 0.5242\n",
      "Epoch  7, CIFAR-10 Batch 1:  Loss: 1.26153, Validation Accuracy: 0.5238\n",
      "Epoch  7, CIFAR-10 Batch 2:  Loss: 1.17726, Validation Accuracy: 0.53\n",
      "Epoch  7, CIFAR-10 Batch 3:  Loss: 1.02476, Validation Accuracy: 0.5246\n",
      "Epoch  7, CIFAR-10 Batch 4:  Loss: 1.13731, Validation Accuracy: 0.543\n",
      "Epoch  7, CIFAR-10 Batch 5:  Loss: 1.07285, Validation Accuracy: 0.538\n",
      "Epoch  8, CIFAR-10 Batch 1:  Loss: 1.25722, Validation Accuracy: 0.5404\n",
      "Epoch  8, CIFAR-10 Batch 2:  Loss: 1.16696, Validation Accuracy: 0.5282\n",
      "Epoch  8, CIFAR-10 Batch 3:  Loss: 0.978287, Validation Accuracy: 0.5364\n",
      "Epoch  8, CIFAR-10 Batch 4:  Loss: 1.10066, Validation Accuracy: 0.5514\n",
      "Epoch  8, CIFAR-10 Batch 5:  Loss: 1.05322, Validation Accuracy: 0.5452\n",
      "Epoch  9, CIFAR-10 Batch 1:  Loss: 1.2134, Validation Accuracy: 0.5414\n",
      "Epoch  9, CIFAR-10 Batch 2:  Loss: 1.10668, Validation Accuracy: 0.5458\n",
      "Epoch  9, CIFAR-10 Batch 3:  Loss: 0.91144, Validation Accuracy: 0.5504\n",
      "Epoch  9, CIFAR-10 Batch 4:  Loss: 1.00966, Validation Accuracy: 0.5544\n",
      "Epoch  9, CIFAR-10 Batch 5:  Loss: 1.00758, Validation Accuracy: 0.5484\n",
      "Epoch 10, CIFAR-10 Batch 1:  Loss: 1.14354, Validation Accuracy: 0.5558\n",
      "Epoch 10, CIFAR-10 Batch 2:  Loss: 1.02403, Validation Accuracy: 0.5404\n",
      "Epoch 10, CIFAR-10 Batch 3:  Loss: 0.898716, Validation Accuracy: 0.5486\n",
      "Epoch 10, CIFAR-10 Batch 4:  Loss: 0.983432, Validation Accuracy: 0.5562\n",
      "Epoch 10, CIFAR-10 Batch 5:  Loss: 0.939055, Validation Accuracy: 0.5614\n",
      "Epoch 11, CIFAR-10 Batch 1:  Loss: 1.07483, Validation Accuracy: 0.5614\n",
      "Epoch 11, CIFAR-10 Batch 2:  Loss: 0.95518, Validation Accuracy: 0.5552\n",
      "Epoch 11, CIFAR-10 Batch 3:  Loss: 0.827793, Validation Accuracy: 0.5642\n",
      "Epoch 11, CIFAR-10 Batch 4:  Loss: 0.933558, Validation Accuracy: 0.5702\n",
      "Epoch 11, CIFAR-10 Batch 5:  Loss: 0.890385, Validation Accuracy: 0.5658\n",
      "Epoch 12, CIFAR-10 Batch 1:  Loss: 1.01228, Validation Accuracy: 0.5658\n",
      "Epoch 12, CIFAR-10 Batch 2:  Loss: 0.932752, Validation Accuracy: 0.5606\n",
      "Epoch 12, CIFAR-10 Batch 3:  Loss: 0.789996, Validation Accuracy: 0.5628\n",
      "Epoch 12, CIFAR-10 Batch 4:  Loss: 0.847536, Validation Accuracy: 0.5732\n",
      "Epoch 12, CIFAR-10 Batch 5:  Loss: 0.842684, Validation Accuracy: 0.5796\n",
      "Epoch 13, CIFAR-10 Batch 1:  Loss: 1.01231, Validation Accuracy: 0.574\n",
      "Epoch 13, CIFAR-10 Batch 2:  Loss: 0.844361, Validation Accuracy: 0.5702\n",
      "Epoch 13, CIFAR-10 Batch 3:  Loss: 0.755838, Validation Accuracy: 0.5672\n",
      "Epoch 13, CIFAR-10 Batch 4:  Loss: 0.819994, Validation Accuracy: 0.5836\n",
      "Epoch 13, CIFAR-10 Batch 5:  Loss: 0.82715, Validation Accuracy: 0.577\n",
      "Epoch 14, CIFAR-10 Batch 1:  Loss: 0.933025, Validation Accuracy: 0.579\n",
      "Epoch 14, CIFAR-10 Batch 2:  Loss: 0.805896, Validation Accuracy: 0.5758\n",
      "Epoch 14, CIFAR-10 Batch 3:  Loss: 0.744222, Validation Accuracy: 0.5768\n",
      "Epoch 14, CIFAR-10 Batch 4:  Loss: 0.773934, Validation Accuracy: 0.5794\n",
      "Epoch 14, CIFAR-10 Batch 5:  Loss: 0.781956, Validation Accuracy: 0.5816\n",
      "Epoch 15, CIFAR-10 Batch 1:  Loss: 0.882737, Validation Accuracy: 0.5876\n",
      "Epoch 15, CIFAR-10 Batch 2:  Loss: 0.773912, Validation Accuracy: 0.577\n",
      "Epoch 15, CIFAR-10 Batch 3:  Loss: 0.761922, Validation Accuracy: 0.579\n",
      "Epoch 15, CIFAR-10 Batch 4:  Loss: 0.758032, Validation Accuracy: 0.5866\n",
      "Epoch 15, CIFAR-10 Batch 5:  Loss: 0.753469, Validation Accuracy: 0.5802\n",
      "Epoch 16, CIFAR-10 Batch 1:  Loss: 0.849398, Validation Accuracy: 0.5886\n",
      "Epoch 16, CIFAR-10 Batch 2:  Loss: 0.753203, Validation Accuracy: 0.5838\n",
      "Epoch 16, CIFAR-10 Batch 3:  Loss: 0.727992, Validation Accuracy: 0.5846\n",
      "Epoch 16, CIFAR-10 Batch 4:  Loss: 0.7075, Validation Accuracy: 0.592\n",
      "Epoch 16, CIFAR-10 Batch 5:  Loss: 0.677888, Validation Accuracy: 0.5884\n",
      "Epoch 17, CIFAR-10 Batch 1:  Loss: 0.839704, Validation Accuracy: 0.5886\n",
      "Epoch 17, CIFAR-10 Batch 2:  Loss: 0.700551, Validation Accuracy: 0.5804\n",
      "Epoch 17, CIFAR-10 Batch 3:  Loss: 0.71427, Validation Accuracy: 0.5854\n",
      "Epoch 17, CIFAR-10 Batch 4:  Loss: 0.740121, Validation Accuracy: 0.5932\n",
      "Epoch 17, CIFAR-10 Batch 5:  Loss: 0.692041, Validation Accuracy: 0.5926\n",
      "Epoch 18, CIFAR-10 Batch 1:  Loss: 0.810077, Validation Accuracy: 0.5912\n",
      "Epoch 18, CIFAR-10 Batch 2:  Loss: 0.704172, Validation Accuracy: 0.5788\n",
      "Epoch 18, CIFAR-10 Batch 3:  Loss: 0.700879, Validation Accuracy: 0.5926\n",
      "Epoch 18, CIFAR-10 Batch 4:  Loss: 0.670581, Validation Accuracy: 0.5968\n",
      "Epoch 18, CIFAR-10 Batch 5:  Loss: 0.646975, Validation Accuracy: 0.5958\n",
      "Epoch 19, CIFAR-10 Batch 1:  Loss: 0.790072, Validation Accuracy: 0.5928\n",
      "Epoch 19, CIFAR-10 Batch 2:  Loss: 0.660999, Validation Accuracy: 0.5854\n",
      "Epoch 19, CIFAR-10 Batch 3:  Loss: 0.632372, Validation Accuracy: 0.5952\n",
      "Epoch 19, CIFAR-10 Batch 4:  Loss: 0.675504, Validation Accuracy: 0.5956\n",
      "Epoch 19, CIFAR-10 Batch 5:  Loss: 0.606052, Validation Accuracy: 0.5948\n",
      "Epoch 20, CIFAR-10 Batch 1:  Loss: 0.791606, Validation Accuracy: 0.5972\n",
      "Epoch 20, CIFAR-10 Batch 2:  Loss: 0.61809, Validation Accuracy: 0.5858\n",
      "Epoch 20, CIFAR-10 Batch 3:  Loss: 0.650696, Validation Accuracy: 0.5982\n",
      "Epoch 20, CIFAR-10 Batch 4:  Loss: 0.617151, Validation Accuracy: 0.5932\n",
      "Epoch 20, CIFAR-10 Batch 5:  Loss: 0.579114, Validation Accuracy: 0.5988\n",
      "Epoch 21, CIFAR-10 Batch 1:  Loss: 0.700156, Validation Accuracy: 0.5964\n",
      "Epoch 21, CIFAR-10 Batch 2:  Loss: 0.59771, Validation Accuracy: 0.5934\n",
      "Epoch 21, CIFAR-10 Batch 3:  Loss: 0.613134, Validation Accuracy: 0.5966\n",
      "Epoch 21, CIFAR-10 Batch 4:  Loss: 0.612854, Validation Accuracy: 0.6004\n",
      "Epoch 21, CIFAR-10 Batch 5:  Loss: 0.588036, Validation Accuracy: 0.598\n",
      "Epoch 22, CIFAR-10 Batch 1:  Loss: 0.689984, Validation Accuracy: 0.5938\n",
      "Epoch 22, CIFAR-10 Batch 2:  Loss: 0.591816, Validation Accuracy: 0.587\n",
      "Epoch 22, CIFAR-10 Batch 3:  Loss: 0.584148, Validation Accuracy: 0.5978\n",
      "Epoch 22, CIFAR-10 Batch 4:  Loss: 0.586795, Validation Accuracy: 0.5964\n",
      "Epoch 22, CIFAR-10 Batch 5:  Loss: 0.549256, Validation Accuracy: 0.604\n",
      "Epoch 23, CIFAR-10 Batch 1:  Loss: 0.71848, Validation Accuracy: 0.6062\n",
      "Epoch 23, CIFAR-10 Batch 2:  Loss: 0.587507, Validation Accuracy: 0.5854\n",
      "Epoch 23, CIFAR-10 Batch 3:  Loss: 0.546926, Validation Accuracy: 0.6056\n",
      "Epoch 23, CIFAR-10 Batch 4:  Loss: 0.584371, Validation Accuracy: 0.6026\n",
      "Epoch 23, CIFAR-10 Batch 5:  Loss: 0.506607, Validation Accuracy: 0.6044\n",
      "Epoch 24, CIFAR-10 Batch 1:  Loss: 0.655954, Validation Accuracy: 0.6074\n",
      "Epoch 24, CIFAR-10 Batch 2:  Loss: 0.544565, Validation Accuracy: 0.5924\n",
      "Epoch 24, CIFAR-10 Batch 3:  Loss: 0.582883, Validation Accuracy: 0.5992\n",
      "Epoch 24, CIFAR-10 Batch 4:  Loss: 0.56518, Validation Accuracy: 0.606\n",
      "Epoch 24, CIFAR-10 Batch 5:  Loss: 0.520472, Validation Accuracy: 0.6104\n",
      "Epoch 25, CIFAR-10 Batch 1:  Loss: 0.653641, Validation Accuracy: 0.6086\n",
      "Epoch 25, CIFAR-10 Batch 2:  Loss: 0.563565, Validation Accuracy: 0.592\n",
      "Epoch 25, CIFAR-10 Batch 3:  Loss: 0.555532, Validation Accuracy: 0.6036\n",
      "Epoch 25, CIFAR-10 Batch 4:  Loss: 0.547108, Validation Accuracy: 0.5968\n",
      "Epoch 25, CIFAR-10 Batch 5:  Loss: 0.517885, Validation Accuracy: 0.601\n",
      "Epoch 26, CIFAR-10 Batch 1:  Loss: 0.644603, Validation Accuracy: 0.6006\n",
      "Epoch 26, CIFAR-10 Batch 2:  Loss: 0.525397, Validation Accuracy: 0.5908\n",
      "Epoch 26, CIFAR-10 Batch 3:  Loss: 0.547729, Validation Accuracy: 0.6082\n",
      "Epoch 26, CIFAR-10 Batch 4:  Loss: 0.544211, Validation Accuracy: 0.606\n",
      "Epoch 26, CIFAR-10 Batch 5:  Loss: 0.481083, Validation Accuracy: 0.6192\n",
      "Epoch 27, CIFAR-10 Batch 1:  Loss: 0.605123, Validation Accuracy: 0.6112\n",
      "Epoch 27, CIFAR-10 Batch 2:  Loss: 0.537369, Validation Accuracy: 0.5996\n",
      "Epoch 27, CIFAR-10 Batch 3:  Loss: 0.493436, Validation Accuracy: 0.6074\n",
      "Epoch 27, CIFAR-10 Batch 4:  Loss: 0.481783, Validation Accuracy: 0.608\n",
      "Epoch 27, CIFAR-10 Batch 5:  Loss: 0.454416, Validation Accuracy: 0.6074\n",
      "Epoch 28, CIFAR-10 Batch 1:  Loss: 0.579605, Validation Accuracy: 0.6042\n",
      "Epoch 28, CIFAR-10 Batch 2:  Loss: 0.510668, Validation Accuracy: 0.5968\n",
      "Epoch 28, CIFAR-10 Batch 3:  Loss: 0.486396, Validation Accuracy: 0.6038\n",
      "Epoch 28, CIFAR-10 Batch 4:  Loss: 0.510988, Validation Accuracy: 0.6062\n",
      "Epoch 28, CIFAR-10 Batch 5:  Loss: 0.458691, Validation Accuracy: 0.6112\n",
      "Epoch 29, CIFAR-10 Batch 1:  Loss: 0.531389, Validation Accuracy: 0.6116\n",
      "Epoch 29, CIFAR-10 Batch 2:  Loss: 0.457714, Validation Accuracy: 0.6064\n",
      "Epoch 29, CIFAR-10 Batch 3:  Loss: 0.43938, Validation Accuracy: 0.6094\n",
      "Epoch 29, CIFAR-10 Batch 4:  Loss: 0.47205, Validation Accuracy: 0.604\n",
      "Epoch 29, CIFAR-10 Batch 5:  Loss: 0.450848, Validation Accuracy: 0.6078\n",
      "Epoch 30, CIFAR-10 Batch 1:  Loss: 0.516206, Validation Accuracy: 0.6048\n",
      "Epoch 30, CIFAR-10 Batch 2:  Loss: 0.464914, Validation Accuracy: 0.5982\n",
      "Epoch 30, CIFAR-10 Batch 3:  Loss: 0.465997, Validation Accuracy: 0.6006\n",
      "Epoch 30, CIFAR-10 Batch 4:  Loss: 0.453384, Validation Accuracy: 0.606\n",
      "Epoch 30, CIFAR-10 Batch 5:  Loss: 0.426945, Validation Accuracy: 0.6148\n",
      "Epoch 31, CIFAR-10 Batch 1:  Loss: 0.488057, Validation Accuracy: 0.6098\n",
      "Epoch 31, CIFAR-10 Batch 2:  Loss: 0.478965, Validation Accuracy: 0.5912\n",
      "Epoch 31, CIFAR-10 Batch 3:  Loss: 0.440498, Validation Accuracy: 0.6112\n",
      "Epoch 31, CIFAR-10 Batch 4:  Loss: 0.453746, Validation Accuracy: 0.6034\n",
      "Epoch 31, CIFAR-10 Batch 5:  Loss: 0.424255, Validation Accuracy: 0.6128\n",
      "Epoch 32, CIFAR-10 Batch 1:  Loss: 0.479543, Validation Accuracy: 0.6126\n",
      "Epoch 32, CIFAR-10 Batch 2:  Loss: 0.422038, Validation Accuracy: 0.5932\n",
      "Epoch 32, CIFAR-10 Batch 3:  Loss: 0.463547, Validation Accuracy: 0.6082\n",
      "Epoch 32, CIFAR-10 Batch 4:  Loss: 0.43791, Validation Accuracy: 0.6148\n",
      "Epoch 32, CIFAR-10 Batch 5:  Loss: 0.40997, Validation Accuracy: 0.6094\n",
      "Epoch 33, CIFAR-10 Batch 1:  Loss: 0.451518, Validation Accuracy: 0.5992\n",
      "Epoch 33, CIFAR-10 Batch 2:  Loss: 0.394846, Validation Accuracy: 0.6028\n",
      "Epoch 33, CIFAR-10 Batch 3:  Loss: 0.431703, Validation Accuracy: 0.612\n",
      "Epoch 33, CIFAR-10 Batch 4:  Loss: 0.420986, Validation Accuracy: 0.611\n",
      "Epoch 33, CIFAR-10 Batch 5:  Loss: 0.408339, Validation Accuracy: 0.618\n",
      "Epoch 34, CIFAR-10 Batch 1:  Loss: 0.443738, Validation Accuracy: 0.6082\n",
      "Epoch 34, CIFAR-10 Batch 2:  Loss: 0.405892, Validation Accuracy: 0.5958\n",
      "Epoch 34, CIFAR-10 Batch 3:  Loss: 0.409952, Validation Accuracy: 0.6142\n",
      "Epoch 34, CIFAR-10 Batch 4:  Loss: 0.412688, Validation Accuracy: 0.6066\n",
      "Epoch 34, CIFAR-10 Batch 5:  Loss: 0.4038, Validation Accuracy: 0.6164\n",
      "Epoch 35, CIFAR-10 Batch 1:  Loss: 0.429631, Validation Accuracy: 0.6196\n",
      "Epoch 35, CIFAR-10 Batch 2:  Loss: 0.372412, Validation Accuracy: 0.6092\n",
      "Epoch 35, CIFAR-10 Batch 3:  Loss: 0.401146, Validation Accuracy: 0.6192\n",
      "Epoch 35, CIFAR-10 Batch 4:  Loss: 0.423925, Validation Accuracy: 0.613\n",
      "Epoch 35, CIFAR-10 Batch 5:  Loss: 0.391495, Validation Accuracy: 0.6116\n",
      "Epoch 36, CIFAR-10 Batch 1:  Loss: 0.432284, Validation Accuracy: 0.613\n",
      "Epoch 36, CIFAR-10 Batch 2:  Loss: 0.382012, Validation Accuracy: 0.6094\n",
      "Epoch 36, CIFAR-10 Batch 3:  Loss: 0.418155, Validation Accuracy: 0.6098\n",
      "Epoch 36, CIFAR-10 Batch 4:  Loss: 0.372924, Validation Accuracy: 0.6074\n",
      "Epoch 36, CIFAR-10 Batch 5:  Loss: 0.384031, Validation Accuracy: 0.613\n",
      "Epoch 37, CIFAR-10 Batch 1:  Loss: 0.409707, Validation Accuracy: 0.6146\n",
      "Epoch 37, CIFAR-10 Batch 2:  Loss: 0.389144, Validation Accuracy: 0.612\n",
      "Epoch 37, CIFAR-10 Batch 3:  Loss: 0.382509, Validation Accuracy: 0.6176\n",
      "Epoch 37, CIFAR-10 Batch 4:  Loss: 0.39639, Validation Accuracy: 0.6126\n",
      "Epoch 37, CIFAR-10 Batch 5:  Loss: 0.378278, Validation Accuracy: 0.6162\n",
      "Epoch 38, CIFAR-10 Batch 1:  Loss: 0.411486, Validation Accuracy: 0.6122\n",
      "Epoch 38, CIFAR-10 Batch 2:  Loss: 0.344909, Validation Accuracy: 0.6116\n",
      "Epoch 38, CIFAR-10 Batch 3:  Loss: 0.379857, Validation Accuracy: 0.6186\n",
      "Epoch 38, CIFAR-10 Batch 4:  Loss: 0.388986, Validation Accuracy: 0.6112\n",
      "Epoch 38, CIFAR-10 Batch 5:  Loss: 0.380898, Validation Accuracy: 0.6128\n",
      "Epoch 39, CIFAR-10 Batch 1:  Loss: 0.424293, Validation Accuracy: 0.6108\n",
      "Epoch 39, CIFAR-10 Batch 2:  Loss: 0.36246, Validation Accuracy: 0.607\n",
      "Epoch 39, CIFAR-10 Batch 3:  Loss: 0.3753, Validation Accuracy: 0.6134\n",
      "Epoch 39, CIFAR-10 Batch 4:  Loss: 0.388958, Validation Accuracy: 0.6206\n",
      "Epoch 39, CIFAR-10 Batch 5:  Loss: 0.352357, Validation Accuracy: 0.6196\n",
      "Epoch 40, CIFAR-10 Batch 1:  Loss: 0.367877, Validation Accuracy: 0.6192\n",
      "Epoch 40, CIFAR-10 Batch 2:  Loss: 0.358089, Validation Accuracy: 0.6138\n",
      "Epoch 40, CIFAR-10 Batch 3:  Loss: 0.342678, Validation Accuracy: 0.623\n",
      "Epoch 40, CIFAR-10 Batch 4:  Loss: 0.387916, Validation Accuracy: 0.6166\n",
      "Epoch 40, CIFAR-10 Batch 5:  Loss: 0.326369, Validation Accuracy: 0.6154\n",
      "Epoch 41, CIFAR-10 Batch 1:  Loss: 0.349093, Validation Accuracy: 0.6148\n",
      "Epoch 41, CIFAR-10 Batch 2:  Loss: 0.341038, Validation Accuracy: 0.6116\n",
      "Epoch 41, CIFAR-10 Batch 3:  Loss: 0.335976, Validation Accuracy: 0.6186\n",
      "Epoch 41, CIFAR-10 Batch 4:  Loss: 0.368429, Validation Accuracy: 0.6096\n",
      "Epoch 41, CIFAR-10 Batch 5:  Loss: 0.319308, Validation Accuracy: 0.615\n",
      "Epoch 42, CIFAR-10 Batch 1:  Loss: 0.357447, Validation Accuracy: 0.6178\n",
      "Epoch 42, CIFAR-10 Batch 2:  Loss: 0.334085, Validation Accuracy: 0.6122\n",
      "Epoch 42, CIFAR-10 Batch 3:  Loss: 0.324599, Validation Accuracy: 0.6206\n",
      "Epoch 42, CIFAR-10 Batch 4:  Loss: 0.333993, Validation Accuracy: 0.6106\n",
      "Epoch 42, CIFAR-10 Batch 5:  Loss: 0.307488, Validation Accuracy: 0.6188\n",
      "Epoch 43, CIFAR-10 Batch 1:  Loss: 0.3295, Validation Accuracy: 0.6122\n",
      "Epoch 43, CIFAR-10 Batch 2:  Loss: 0.324061, Validation Accuracy: 0.6048\n",
      "Epoch 43, CIFAR-10 Batch 3:  Loss: 0.345171, Validation Accuracy: 0.6166\n",
      "Epoch 43, CIFAR-10 Batch 4:  Loss: 0.355721, Validation Accuracy: 0.609\n",
      "Epoch 43, CIFAR-10 Batch 5:  Loss: 0.302528, Validation Accuracy: 0.624\n",
      "Epoch 44, CIFAR-10 Batch 1:  Loss: 0.337486, Validation Accuracy: 0.6152\n",
      "Epoch 44, CIFAR-10 Batch 2:  Loss: 0.319627, Validation Accuracy: 0.622\n",
      "Epoch 44, CIFAR-10 Batch 3:  Loss: 0.316741, Validation Accuracy: 0.6202\n",
      "Epoch 44, CIFAR-10 Batch 4:  Loss: 0.32332, Validation Accuracy: 0.6196\n",
      "Epoch 44, CIFAR-10 Batch 5:  Loss: 0.295217, Validation Accuracy: 0.6136\n",
      "Epoch 45, CIFAR-10 Batch 1:  Loss: 0.323689, Validation Accuracy: 0.6192\n",
      "Epoch 45, CIFAR-10 Batch 2:  Loss: 0.314186, Validation Accuracy: 0.6098\n",
      "Epoch 45, CIFAR-10 Batch 3:  Loss: 0.362455, Validation Accuracy: 0.6218\n",
      "Epoch 45, CIFAR-10 Batch 4:  Loss: 0.31782, Validation Accuracy: 0.6212\n",
      "Epoch 45, CIFAR-10 Batch 5:  Loss: 0.299778, Validation Accuracy: 0.6178\n",
      "Epoch 46, CIFAR-10 Batch 1:  Loss: 0.344857, Validation Accuracy: 0.625\n",
      "Epoch 46, CIFAR-10 Batch 2:  Loss: 0.30307, Validation Accuracy: 0.6138\n",
      "Epoch 46, CIFAR-10 Batch 3:  Loss: 0.304679, Validation Accuracy: 0.6206\n",
      "Epoch 46, CIFAR-10 Batch 4:  Loss: 0.310502, Validation Accuracy: 0.6096\n",
      "Epoch 46, CIFAR-10 Batch 5:  Loss: 0.278591, Validation Accuracy: 0.6234\n",
      "Epoch 47, CIFAR-10 Batch 1:  Loss: 0.318748, Validation Accuracy: 0.621\n",
      "Epoch 47, CIFAR-10 Batch 2:  Loss: 0.292534, Validation Accuracy: 0.617\n",
      "Epoch 47, CIFAR-10 Batch 3:  Loss: 0.293722, Validation Accuracy: 0.6196\n",
      "Epoch 47, CIFAR-10 Batch 4:  Loss: 0.32546, Validation Accuracy: 0.6152\n",
      "Epoch 47, CIFAR-10 Batch 5:  Loss: 0.271828, Validation Accuracy: 0.6286\n",
      "Epoch 48, CIFAR-10 Batch 1:  Loss: 0.316885, Validation Accuracy: 0.6278\n",
      "Epoch 48, CIFAR-10 Batch 2:  Loss: 0.310924, Validation Accuracy: 0.606\n",
      "Epoch 48, CIFAR-10 Batch 3:  Loss: 0.279068, Validation Accuracy: 0.6214\n",
      "Epoch 48, CIFAR-10 Batch 4:  Loss: 0.274305, Validation Accuracy: 0.6188\n",
      "Epoch 48, CIFAR-10 Batch 5:  Loss: 0.276689, Validation Accuracy: 0.6172\n",
      "Epoch 49, CIFAR-10 Batch 1:  Loss: 0.29756, Validation Accuracy: 0.6204\n",
      "Epoch 49, CIFAR-10 Batch 2:  Loss: 0.300243, Validation Accuracy: 0.6142\n",
      "Epoch 49, CIFAR-10 Batch 3:  Loss: 0.283035, Validation Accuracy: 0.6248\n",
      "Epoch 49, CIFAR-10 Batch 4:  Loss: 0.282332, Validation Accuracy: 0.6242\n",
      "Epoch 49, CIFAR-10 Batch 5:  Loss: 0.272993, Validation Accuracy: 0.6132\n",
      "Epoch 50, CIFAR-10 Batch 1:  Loss: 0.291536, Validation Accuracy: 0.6232\n",
      "Epoch 50, CIFAR-10 Batch 2:  Loss: 0.283301, Validation Accuracy: 0.6136\n",
      "Epoch 50, CIFAR-10 Batch 3:  Loss: 0.259599, Validation Accuracy: 0.624\n",
      "Epoch 50, CIFAR-10 Batch 4:  Loss: 0.295004, Validation Accuracy: 0.6242\n",
      "Epoch 50, CIFAR-10 Batch 5:  Loss: 0.259592, Validation Accuracy: 0.6208\n"
     ]
    }
   ],
   "source": [
    "\"\"\"\n",
    "DON'T MODIFY ANYTHING IN THIS CELL\n",
    "\"\"\"\n",
    "save_model_path = './image_classification'\n",
    "\n",
    "print('Training...')\n",
    "with tf.Session() as sess:\n",
    "    # Initializing the variables\n",
    "    sess.run(tf.global_variables_initializer())\n",
    "    \n",
    "    # Training cycle\n",
    "    for epoch in range(epochs):\n",
    "        # Loop over all batches\n",
    "        n_batches = 5\n",
    "        for batch_i in range(1, n_batches + 1):\n",
    "            for batch_features, batch_labels in helper.load_preprocess_training_batch(batch_i, batch_size):\n",
    "                train_neural_network(sess, optimizer, keep_probability, batch_features, batch_labels)\n",
    "            print('Epoch {:>2}, CIFAR-10 Batch {}:  '.format(epoch + 1, batch_i), end='')\n",
    "            print_stats(sess, batch_features, batch_labels, cost, accuracy)\n",
    "            \n",
    "    # Save Model\n",
    "    saver = tf.train.Saver()\n",
    "    save_path = saver.save(sess, save_model_path)"
   ]
  },
  {
   "cell_type": "markdown",
   "metadata": {
    "deletable": true,
    "editable": true
   },
   "source": [
    "# Checkpoint\n",
    "The model has been saved to disk.\n",
    "## Test Model\n",
    "Test your model against the test dataset.  This will be your final accuracy. You should have an accuracy greater than 50%. If you don't, keep tweaking the model architecture and parameters."
   ]
  },
  {
   "cell_type": "code",
   "execution_count": 40,
   "metadata": {
    "collapsed": false,
    "deletable": true,
    "editable": true
   },
   "outputs": [
    {
     "name": "stdout",
     "output_type": "stream",
     "text": [
      "Testing Accuracy: 0.61494140625\n",
      "\n"
     ]
    },
    {
     "data": {
      "image/png": "[encoded data removed]",
      "text/plain": [
       "<matplotlib.figure.Figure at 0x7f3528e415f8>"
      ]
     },
     "metadata": {
      "image/png": {
       "height": 319,
       "width": 355
      }
     },
     "output_type": "display_data"
    }
   ],
   "source": [
    "\"\"\"\n",
    "DON'T MODIFY ANYTHING IN THIS CELL\n",
    "\"\"\"\n",
    "%matplotlib inline\n",
    "%config InlineBackend.figure_format = 'retina'\n",
    "\n",
    "import tensorflow as tf\n",
    "import pickle\n",
    "import helper\n",
    "import random\n",
    "\n",
    "# Set batch size if not already set\n",
    "try:\n",
    "    if batch_size:\n",
    "        pass\n",
    "except NameError:\n",
    "    batch_size = 64\n",
    "\n",
    "save_model_path = './image_classification'\n",
    "n_samples = 4\n",
    "top_n_predictions = 3\n",
    "\n",
    "def test_model():\n",
    "    \"\"\"\n",
    "    Test the saved model against the test dataset\n",
    "    \"\"\"\n",
    "\n",
    "    test_features, test_labels = pickle.load(open('preprocess_training.p', mode='rb'))\n",
    "    loaded_graph = tf.Graph()\n",
    "\n",
    "    with tf.Session(graph=loaded_graph) as sess:\n",
    "        # Load model\n",
    "        loader = tf.train.import_meta_graph(save_model_path + '.meta')\n",
    "        loader.restore(sess, save_model_path)\n",
    "\n",
    "        # Get Tensors from loaded model\n",
    "        loaded_x = loaded_graph.get_tensor_by_name('x:0')\n",
    "        loaded_y = loaded_graph.get_tensor_by_name('y:0')\n",
    "        loaded_keep_prob = loaded_graph.get_tensor_by_name('keep_prob:0')\n",
    "        loaded_logits = loaded_graph.get_tensor_by_name('logits:0')\n",
    "        loaded_acc = loaded_graph.get_tensor_by_name('accuracy:0')\n",
    "        \n",
    "        # Get accuracy in batches for memory limitations\n",
    "        test_batch_acc_total = 0\n",
    "        test_batch_count = 0\n",
    "        \n",
    "        for train_feature_batch, train_label_batch in helper.batch_features_labels(test_features, test_labels, batch_size):\n",
    "            test_batch_acc_total += sess.run(\n",
    "                loaded_acc,\n",
    "                feed_dict={loaded_x: train_feature_batch, loaded_y: train_label_batch, loaded_keep_prob: 1.0})\n",
    "            test_batch_count += 1\n",
    "\n",
    "        print('Testing Accuracy: {}\\n'.format(test_batch_acc_total/test_batch_count))\n",
    "\n",
    "        # Print Random Samples\n",
    "        random_test_features, random_test_labels = tuple(zip(*random.sample(list(zip(test_features, test_labels)), n_samples)))\n",
    "        random_test_predictions = sess.run(\n",
    "            tf.nn.top_k(tf.nn.softmax(loaded_logits), top_n_predictions),\n",
    "            feed_dict={loaded_x: random_test_features, loaded_y: random_test_labels, loaded_keep_prob: 1.0})\n",
    "        helper.display_image_predictions(random_test_features, random_test_labels, random_test_predictions)\n",
    "\n",
    "\n",
    "test_model()"
   ]
  },
  {
   "cell_type": "markdown",
   "metadata": {
    "deletable": true,
    "editable": true
   },
   "source": [
    "##### Why 50-80% Accuracy?\n",
    "You might be wondering why you can't get an accuracy any higher. First things first, 50% isn't bad for a simple CNN.  Pure guessing would get you 10% accuracy. However, you might notice people are getting scores [well above 80%](http://rodrigob.github.io/are_we_there_yet/build/classification_datasets_results.html#43494641522d3130).  That's because we haven't taught you all there is to know about neural networks. We still need to cover a few more techniques.\n",
    "## Submitting This Project\n",
    "When submitting this project, make sure to run all the cells before saving the notebook.  Save the notebook file as \"dlnd_image_classification.ipynb\" and save it as a HTML file under \"File\" -> \"Download as\".  Include the \"helper.py\" and \"problem_unittests.py\" files in your submission."
   ]
  }
 ],
 "metadata": {
  "kernelspec": {
   "display_name": "Python 3",
   "language": "python",
   "name": "python3"
  },
  "language_info": {
   "codemirror_mode": {
    "name": "ipython",
    "version": 3
   },
   "file_extension": ".py",
   "mimetype": "text/x-python",
   "name": "python",
   "nbconvert_exporter": "python",
   "pygments_lexer": "ipython3",
   "version": "3.5.2"
  },
  "widgets": {
   "state": {},
   "version": "1.1.2"
  }
 },
 "nbformat": 4,
 "nbformat_minor": 0
}
