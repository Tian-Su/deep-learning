{
 "cells": [
  {
   "cell_type": "code",
   "execution_count": 8,
   "metadata": {
    "collapsed": true
   },
   "outputs": [],
   "source": [
    "import os\n",
    "import numpy as np\n",
    "\n",
    "def build_out_state_space(inputs_dir=\"./inputs-txt/\"):\n",
    "    datas = []\n",
    "    #for filename in os.listdir(inputs_dir):\n",
    "    #    tmp_data = np.genfromtxt(\"{}{}\".format(inputs_dir,filename), delimiter=',')\n",
    "    #    datas.append(add_more_inputs_to_data(tmp_data))\n",
    "    tmp_data = np.genfromtxt(\"{}{}\".format(inputs_dir,'training_data.txt'), delimiter=',')\n",
    "    return tmp_data"
   ]
  },
  {
   "cell_type": "code",
   "execution_count": 15,
   "metadata": {
    "collapsed": false
   },
   "outputs": [
    {
     "name": "stdout",
     "output_type": "stream",
     "text": [
      "Populating the interactive namespace from numpy and matplotlib\n"
     ]
    }
   ],
   "source": [
    "import matplotlib.pyplot as plt\n",
    "%matplotlib inline\n",
    "%pylab inline\n",
    "pylab.rcParams['figure.figsize'] = (15, 10)\n",
    "\n",
    "# From here: https://gist.github.com/karpathy/d4dee566867f8291f086\n",
    "#print data\n",
    "\"\"\"\n",
    "Minimal character-level Vanilla RNN model. Written by Andrej Karpathy (@karpathy)\n",
    "BSD License\n",
    "\"\"\"\n",
    "import numpy as np\n",
    "\n",
    "# hyperparameters\n",
    "class RNN:\n",
    "    def __init__(self, max_size, iterations, hidden_size=100, seq_length = 25, learning_rate=1e-1):\n",
    "        self.vocab_size = max_size\n",
    "        self.iterations = iterations\n",
    "        self.hidden_size = hidden_size # size of hidden layer of neurons\n",
    "        self.seq_length = seq_length # number of steps to unroll the RNN for\n",
    "        self.learning_rate = learning_rate\n",
    "        \n",
    "    def lossFun(self, inputs, targets, hprev):\n",
    "          \"\"\"\n",
    "          inputs,targets are both list of integers.\n",
    "          hprev is Hx1 array of initial hidden state\n",
    "          returns the loss, gradients on model parameters, and last hidden state\n",
    "          \"\"\"\n",
    "          xs, hs, ys, ps = {}, {}, {}, {}\n",
    "          hs[-1] = np.copy(hprev)\n",
    "          loss = 0\n",
    "          # forward pass\n",
    "          for t in range(len(inputs)):\n",
    "            xs[t] = np.zeros((self.vocab_size,1)) # encode in 1-of-k representation\n",
    "            xs[t][inputs[t]] = 1\n",
    "            hs[t] = np.tanh(np.dot(self.Wxh, xs[t]) + np.dot(self.Whh, hs[t-1]) + self.bh) # hidden state\n",
    "            ys[t] = np.dot(self.Why, hs[t]) + self.by # unnormalized log probabilities for next chars\n",
    "            ps[t] = np.exp(ys[t]) / np.sum(np.exp(ys[t])) # probabilities for next chars\n",
    "            loss += -np.log(ps[t][targets[t],0]) # softmax (cross-entropy loss)\n",
    "          # backward pass: compute gradients going backwards\n",
    "          dWxh, dWhh, dWhy = np.zeros_like(self.Wxh), np.zeros_like(self.Whh), np.zeros_like(self.Why)\n",
    "          dbh, dby = np.zeros_like(self.bh), np.zeros_like(self.by)\n",
    "          dhnext = np.zeros_like(hs[0])\n",
    "          for t in reversed(range(len(inputs))):\n",
    "            dy = np.copy(ps[t])\n",
    "            dy[targets[t]] -= 1 # backprop into y. see http://cs231n.github.io/neural-networks-case-study/#grad if confused here\n",
    "            dWhy += np.dot(dy, hs[t].T)\n",
    "            dby += dy\n",
    "            dh = np.dot(self.Why.T, dy) + dhnext # backprop into h\n",
    "            dhraw = (1 - hs[t] * hs[t]) * dh # backprop through tanh nonlinearity\n",
    "            dbh += dhraw\n",
    "            dWxh += np.dot(dhraw, xs[t].T)\n",
    "            dWhh += np.dot(dhraw, hs[t-1].T)\n",
    "            dhnext = np.dot(self.Whh.T, dhraw)\n",
    "          for dparam in [dWxh, dWhh, dWhy, dbh, dby]:\n",
    "            np.clip(dparam, -5, 5, out=dparam) # clip to mitigate exploding gradients\n",
    "          return loss, dWxh, dWhh, dWhy, dbh, dby, hs[len(inputs)-1]\n",
    "\n",
    "    def sample(self, h, seed_ix, n):\n",
    "      \"\"\" \n",
    "      sample a sequence of integers from the model \n",
    "      h is memory state, seed_ix is seed letter for first time step\n",
    "      \"\"\"\n",
    "      x = np.zeros((self.vocab_size, 1))\n",
    "      x[seed_ix] = 1\n",
    "      ixes = []\n",
    "      for t in range(n):\n",
    "        h = np.tanh(np.dot(self.Wxh, x) + np.dot(self.Whh, h) + self.bh)\n",
    "        y = np.dot(self.Why, h) + self.by\n",
    "        p = np.exp(y) / np.sum(np.exp(y))\n",
    "        #plt.plot(range(self.vocab_size), p.ravel())\n",
    "        #plt.show()\n",
    "        ix = np.random.choice(range(self.vocab_size), p=p.ravel(), size=5)\n",
    "        x = np.zeros((self.vocab_size, 1))\n",
    "        x[ix] = 1\n",
    "        ixes.append(ix.mean())\n",
    "      return ixes\n",
    "\n",
    "    def train(self, data):\n",
    "        \n",
    "        # model parameters\n",
    "        self.Wxh = np.random.randn(self.hidden_size, self.vocab_size)*0.01 # input to hidden\n",
    "        self.Whh = np.random.randn(self.hidden_size, self.hidden_size)*0.01 # hidden to hidden\n",
    "        self.Why = np.random.randn(self.vocab_size, self.hidden_size)*0.01 # hidden to output\n",
    "        self.bh = np.zeros((self.hidden_size, 1)) # hidden bias\n",
    "        self.by = np.zeros((self.vocab_size, 1)) # output bias\n",
    "\n",
    "        n, p = 0, 0\n",
    "        mWxh, mWhh, mWhy = np.zeros_like(self.Wxh), np.zeros_like(self.Whh), np.zeros_like(self.Why)\n",
    "        mbh, mby = np.zeros_like(self.bh), np.zeros_like(self.by) # memory variables for Adagrad\n",
    "        smooth_loss = -np.log(1.0/self.vocab_size)*self.seq_length # loss at iteration 0\n",
    "        self.smooth_loss_list = []\n",
    "        while n <= self.iterations:\n",
    "          # prepare inputs (we're sweeping from left to right in steps seq_length long)\n",
    "          if p+self.seq_length+1 >= len(data) or n == 0: \n",
    "            hprev = np.zeros((self.hidden_size,1)) # reset RNN memory\n",
    "            p = 0 # go from start of data\n",
    "          inputs = data[p:p+self.seq_length]\n",
    "          targets = data[p+1:p+self.seq_length+1]\n",
    "\n",
    "          # forward seq_length characters through the net and fetch gradient\n",
    "          loss, dWxh, dWhh, dWhy, dbh, dby, hprev = self.lossFun(inputs, targets, hprev)\n",
    "          smooth_loss = smooth_loss * 0.999 + loss * 0.001\n",
    "          if n % 1000 == 0: \n",
    "                print ('iter %d, loss: %f' % (n, smooth_loss) )# print progress\n",
    "          self.smooth_loss_list.append(smooth_loss)\n",
    "\n",
    "          # perform parameter update with Adagrad\n",
    "          for param, dparam, mem in zip([self.Wxh, self.Whh, self.Why, self.bh, self.by], \n",
    "                                        [dWxh, dWhh, dWhy, dbh, dby], \n",
    "                                        [mWxh, mWhh, mWhy, mbh, mby]):\n",
    "            \n",
    "            #print mem.shape, dparam.shape\n",
    "            mem += dparam * dparam\n",
    "            param += -self.learning_rate * dparam / np.sqrt(mem + 1e-8) # adagrad update\n",
    "\n",
    "          p += self.seq_length # move data pointer\n",
    "          n += 1 # iteration counter \n",
    "        self.hprev = hprev\n",
    "        \n",
    "        #print \"Final Run\"\n",
    "        #sample_ix = sample(hprev, inputs[0], 200)\n",
    "        #return sample_ix\n",
    "    #    txt = ''.join(map(str,sample_ix))\n",
    "    #    print '----\\n %s \\n----' % (txt, )"
   ]
  },
  {
   "cell_type": "code",
   "execution_count": 10,
   "metadata": {
    "collapsed": false
   },
   "outputs": [],
   "source": [
    "d = build_out_state_space()\n",
    "X_Max = int(np.max(np.array(d)[:,0]))+1\n",
    "Y_Max = int(np.max(np.array(d)[:,1]))+1\n",
    "X = np.array(d, dtype=np.uint16)[:,0]\n",
    "Y = np.array(d, dtype=np.uint16)[:,1]\n",
    "\n",
    "#plt.scatter(range(len(X)), X)\n",
    "#plt.grid()\n",
    "#plt.ylim((0,X_Max))\n",
    "#plt.show()"
   ]
  },
  {
   "cell_type": "code",
   "execution_count": 12,
   "metadata": {
    "collapsed": false
   },
   "outputs": [],
   "source": [
    "# plt.scatter(range(len(Y)), Y)\n",
    "# plt.show()"
   ]
  },
  {
   "cell_type": "code",
   "execution_count": 16,
   "metadata": {
    "collapsed": false
   },
   "outputs": [
    {
     "name": "stdout",
     "output_type": "stream",
     "text": [
      "328 565\n",
      "iter 0, loss: 579.301370\n",
      "iter 1000, loss: 611.974698\n",
      "iter 2000, loss: 554.776036\n",
      "iter 3000, loss: 493.287542\n",
      "iter 4000, loss: 440.542470\n",
      "iter 5000, loss: 397.119883\n",
      "iter 6000, loss: 365.629614\n",
      "iter 7000, loss: 343.460754\n",
      "iter 8000, loss: 327.830432\n",
      "iter 9000, loss: 315.686848\n",
      "iter 10000, loss: 306.793856\n",
      "iter 11000, loss: 299.906609\n",
      "iter 12000, loss: 293.902226\n",
      "iter 13000, loss: 288.768637\n",
      "iter 14000, loss: 284.228123\n",
      "iter 15000, loss: 280.707484\n",
      "iter 16000, loss: 277.410829\n",
      "iter 17000, loss: 274.339300\n",
      "iter 18000, loss: 271.306801\n",
      "iter 19000, loss: 268.779006\n",
      "iter 20000, loss: 266.492717\n"
     ]
    }
   ],
   "source": [
    "print (Y_Max, X_Max)\n",
    "hidden_size = 200\n",
    "seq_length = 100\n",
    "iterations = 20000\n",
    "s = RNN(Y_Max, iterations, hidden_size=hidden_size, seq_length=seq_length)\n",
    "s.train(Y)"
   ]
  },
  {
   "cell_type": "code",
   "execution_count": null,
   "metadata": {
    "collapsed": true
   },
   "outputs": [],
   "source": [
    "r = RNN(X_Max, iterations, hidden_size=hidden_size, seq_length=seq_length)\n",
    "r.train(X)"
   ]
  },
  {
   "cell_type": "code",
   "execution_count": 17,
   "metadata": {
    "collapsed": false
   },
   "outputs": [
    {
     "data": {
      "image/png": "[encoded data removed]",
      "text/plain": [
       "<matplotlib.figure.Figure at 0x10b2b6550>"
      ]
     },
     "metadata": {},
     "output_type": "display_data"
    }
   ],
   "source": [
    "# plt.plot(range(len(r.smooth_loss_list)), r.smooth_loss_list)\n",
    "# plt.show()\n",
    "plt.plot(range(len(s.smooth_loss_list)), s.smooth_loss_list)\n",
    "plt.show()"
   ]
  },
  {
   "cell_type": "code",
   "execution_count": null,
   "metadata": {
    "collapsed": true
   },
   "outputs": [],
   "source": []
  }
 ],
 "metadata": {
  "celltoolbar": "Raw Cell Format",
  "kernelspec": {
   "display_name": "Python 3",
   "language": "python",
   "name": "python3"
  },
  "language_info": {
   "codemirror_mode": {
    "name": "ipython",
    "version": 3
   },
   "file_extension": ".py",
   "mimetype": "text/x-python",
   "name": "python",
   "nbconvert_exporter": "python",
   "pygments_lexer": "ipython3",
   "version": "3.5.2"
  }
 },
 "nbformat": 4,
 "nbformat_minor": 2
}
